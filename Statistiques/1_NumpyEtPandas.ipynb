{
 "cells": [
  {
   "cell_type": "markdown",
   "id": "b56e8319",
   "metadata": {},
   "source": [
    "# Les bibliothèques de manipulation de données"
   ]
  },
  {
   "cell_type": "markdown",
   "id": "f16a6ccc",
   "metadata": {},
   "source": [
    "Pour manipuler des données en `python`, on utilise des bibliothèques externes, notamment `numpy` et `pandas`. Il faut donc les installer en plus du langage en tant que tel (et contrairement aux modules de la bibliothèque standard). En pratique, dans les environnement cloud dont nous disposerons, ces bibliothèques seront installées par défaut.\n",
    "\n",
    "Ce notebook sera l'occasion de se demander pourquoi on utilise des bibliothèques spécialisées dans la gestion des données."
   ]
  },
  {
   "cell_type": "markdown",
   "id": "9e842f95",
   "metadata": {},
   "source": [
    "## Un calcul de moyenne"
   ]
  },
  {
   "cell_type": "markdown",
   "id": "bdb97e1d",
   "metadata": {},
   "source": [
    "Contruisons une liste de notes, dont on souhaitera calculer la moyenne"
   ]
  },
  {
   "cell_type": "code",
   "execution_count": 27,
   "id": "69b3ecae",
   "metadata": {},
   "outputs": [],
   "source": [
    "import random"
   ]
  },
  {
   "cell_type": "code",
   "execution_count": 28,
   "id": "4c1dba7f",
   "metadata": {},
   "outputs": [],
   "source": [
    "nombre_eleves = int(1e7)\n",
    "notes = [random.randint(0, 20) for _ in range(nombre_eleves)]"
   ]
  },
  {
   "cell_type": "code",
   "execution_count": 29,
   "id": "2f7eb06f",
   "metadata": {},
   "outputs": [],
   "source": [
    "def calculer_moyenne(notes):\n",
    "    somme = 0\n",
    "    for note in notes:\n",
    "        somme += note\n",
    "    return somme/len(notes)"
   ]
  },
  {
   "cell_type": "code",
   "execution_count": 30,
   "id": "c89ece10",
   "metadata": {},
   "outputs": [
    {
     "name": "stdout",
     "output_type": "stream",
     "text": [
      "CPU times: user 1.47 s, sys: 0 ns, total: 1.47 s\n",
      "Wall time: 1.48 s\n"
     ]
    },
    {
     "data": {
      "text/plain": [
       "10.0047771"
      ]
     },
     "execution_count": 30,
     "metadata": {},
     "output_type": "execute_result"
    }
   ],
   "source": [
    "%%time\n",
    "calculer_moyenne(notes)"
   ]
  },
  {
   "cell_type": "markdown",
   "id": "84ae98b5",
   "metadata": {},
   "source": [
    "### Une première optimisation"
   ]
  },
  {
   "cell_type": "code",
   "execution_count": 32,
   "id": "2b443298",
   "metadata": {},
   "outputs": [
    {
     "name": "stdout",
     "output_type": "stream",
     "text": [
      "CPU times: user 243 ms, sys: 0 ns, total: 243 ms\n",
      "Wall time: 244 ms\n"
     ]
    },
    {
     "data": {
      "text/plain": [
       "10.0047771"
      ]
     },
     "execution_count": 32,
     "metadata": {},
     "output_type": "execute_result"
    }
   ],
   "source": [
    "%%time\n",
    "sum(notes)/len(notes)"
   ]
  },
  {
   "cell_type": "markdown",
   "id": "d7791053",
   "metadata": {},
   "source": [
    "## Le même calcul avec `numpy`"
   ]
  },
  {
   "cell_type": "code",
   "execution_count": 33,
   "id": "01222aa5",
   "metadata": {},
   "outputs": [],
   "source": [
    "import numpy as np"
   ]
  },
  {
   "cell_type": "markdown",
   "id": "bd5c8653",
   "metadata": {},
   "source": [
    "`numpy` n'utilise pas des liste, mais des `array`s"
   ]
  },
  {
   "cell_type": "code",
   "execution_count": 34,
   "id": "b30e76d7",
   "metadata": {},
   "outputs": [],
   "source": [
    "notes = np.array(notes)"
   ]
  },
  {
   "cell_type": "code",
   "execution_count": 35,
   "id": "bb5b3e42",
   "metadata": {},
   "outputs": [
    {
     "name": "stdout",
     "output_type": "stream",
     "text": [
      "CPU times: user 21.3 ms, sys: 14 µs, total: 21.4 ms\n",
      "Wall time: 19.1 ms\n"
     ]
    },
    {
     "data": {
      "text/plain": [
       "10.0047771"
      ]
     },
     "execution_count": 35,
     "metadata": {},
     "output_type": "execute_result"
    }
   ],
   "source": [
    "%%time\n",
    "notes.mean()"
   ]
  },
  {
   "cell_type": "markdown",
   "id": "59d64fc4",
   "metadata": {},
   "source": [
    "`numpy` est une bibliothèque de calcul scientifique. Elle n'est donc pas faite pour manipuler des bases de données de type tableau. En pratique on est souvent amené à utiliser `pandas` : il s'agit d'une autre bibliothèque construite à partir de `numpy` et adaptée à la manipulation des données !"
   ]
  },
  {
   "cell_type": "markdown",
   "id": "d698bf45",
   "metadata": {},
   "source": [
    "# Exercices"
   ]
  },
  {
   "cell_type": "markdown",
   "id": "a5ef0cf2",
   "metadata": {},
   "source": [
    "Au cas où vous ne soyez pas pleinement convaincu, écrire une fonction python permettant de compter le nombre d'occurence de la de la notes `10` apparaissant dans la liste `notes` et comparer les performances par rapport à la fonction ci-dessous"
   ]
  },
  {
   "cell_type": "code",
   "execution_count": 42,
   "id": "e9cb647f",
   "metadata": {},
   "outputs": [],
   "source": [
    "def compter_occurences(liste, element_recherche):\n",
    "    pass"
   ]
  },
  {
   "cell_type": "code",
   "execution_count": 44,
   "id": "d0ffe713",
   "metadata": {},
   "outputs": [
    {
     "name": "stdout",
     "output_type": "stream",
     "text": [
      "CPU times: user 1.16 s, sys: 0 ns, total: 1.16 s\n",
      "Wall time: 1.17 s\n"
     ]
    },
    {
     "data": {
      "text/plain": [
       "475608"
      ]
     },
     "execution_count": 44,
     "metadata": {},
     "output_type": "execute_result"
    }
   ],
   "source": [
    "%%time\n",
    "compter_occurences(notes, element_recherche=10)"
   ]
  },
  {
   "cell_type": "markdown",
   "id": "df329004",
   "metadata": {},
   "source": [
    "### Une première optimisation :)"
   ]
  },
  {
   "cell_type": "code",
   "execution_count": 50,
   "id": "ab166bfc",
   "metadata": {},
   "outputs": [
    {
     "name": "stdout",
     "output_type": "stream",
     "text": [
      "CPU times: user 277 ms, sys: 8 µs, total: 277 ms\n",
      "Wall time: 277 ms\n"
     ]
    },
    {
     "data": {
      "text/plain": [
       "476441"
      ]
     },
     "execution_count": 50,
     "metadata": {},
     "output_type": "execute_result"
    }
   ],
   "source": [
    "%%time\n",
    "notes.count(10)"
   ]
  },
  {
   "cell_type": "markdown",
   "id": "d7e873db",
   "metadata": {},
   "source": [
    "### En utilisant maintenant  `numpy`"
   ]
  },
  {
   "cell_type": "code",
   "execution_count": 36,
   "id": "b513491a",
   "metadata": {},
   "outputs": [],
   "source": [
    "import numpy as np"
   ]
  },
  {
   "cell_type": "code",
   "execution_count": 46,
   "id": "7d89b084",
   "metadata": {},
   "outputs": [],
   "source": [
    "notes = np.array(notes)"
   ]
  },
  {
   "cell_type": "code",
   "execution_count": 47,
   "id": "b656eaeb",
   "metadata": {},
   "outputs": [
    {
     "name": "stdout",
     "output_type": "stream",
     "text": [
      "CPU times: user 18.6 ms, sys: 0 ns, total: 18.6 ms\n",
      "Wall time: 16.7 ms\n"
     ]
    },
    {
     "data": {
      "text/plain": [
       "475608"
      ]
     },
     "execution_count": 47,
     "metadata": {},
     "output_type": "execute_result"
    }
   ],
   "source": [
    "%%time\n",
    "np.count_nonzero(notes == 10)"
   ]
  }
 ],
 "metadata": {
  "kernelspec": {
   "display_name": "Python 3 (ipykernel)",
   "language": "python",
   "name": "python3"
  },
  "language_info": {
   "codemirror_mode": {
    "name": "ipython",
    "version": 3
   },
   "file_extension": ".py",
   "mimetype": "text/x-python",
   "name": "python",
   "nbconvert_exporter": "python",
   "pygments_lexer": "ipython3",
   "version": "3.9.6"
  }
 },
 "nbformat": 4,
 "nbformat_minor": 5
}

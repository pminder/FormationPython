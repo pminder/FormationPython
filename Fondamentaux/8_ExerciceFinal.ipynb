{
 "cells": [
  {
   "cell_type": "markdown",
   "metadata": {},
   "source": [
    "# Chiffre de César\n",
    "L'objectif de cet exercice est d'écrire une fonction permettant de chiffrer un texte selon le chiffre de César (cf [Wikipedia](https://en.wikipedia.org/wiki/Caesar_cipher))"
   ]
  },
  {
   "cell_type": "markdown",
   "metadata": {},
   "source": [
    "### Description\n",
    "\n",
    "Le principe général est résumé dans le schéma ci-dessous : \n",
    "\n",
    "![Caesar Cipher](img/CaesarCipher.png)"
   ]
  },
  {
   "cell_type": "code",
   "execution_count": 4,
   "metadata": {},
   "outputs": [],
   "source": [
    "texte = \"Bravo si vous reussissez cet exercice c est que vous commencez a maitriser le Python\"\n",
    "cle = 2"
   ]
  },
  {
   "cell_type": "code",
   "execution_count": null,
   "metadata": {},
   "outputs": [],
   "source": [
    "%load solutions/8_ExerciceFinal.py"
   ]
  },
  {
   "cell_type": "code",
   "execution_count": 6,
   "metadata": {},
   "outputs": [
    {
     "name": "stdout",
     "output_type": "stream",
     "text": [
      "Bravo si vous reussissez cet exercice c est que vous commencez a maitriser le Python\n",
      "dtcxq uk xqwu tgwuukuugb egv gzgtekeg e guv swg xqwu eqoogpegb c ockvtkugt ng ravjqp\n",
      "bravo si vous reussissez cet exercice c est que vous commencez a maitriser le python\n"
     ]
    }
   ],
   "source": [
    "print(texte)\n",
    "print(chiffre)\n",
    "print(chiffre_decode)"
   ]
  },
  {
   "cell_type": "markdown",
   "metadata": {},
   "source": [
    "Pour aller plus loin...\n",
    "Utiliser des fonctions !!"
   ]
  }
 ],
 "metadata": {
  "celltoolbar": "Aucun(e)",
  "kernelspec": {
   "display_name": "Python 3",
   "language": "python",
   "name": "python3"
  },
  "language_info": {
   "codemirror_mode": {
    "name": "ipython",
    "version": 3
   },
   "file_extension": ".py",
   "mimetype": "text/x-python",
   "name": "python",
   "nbconvert_exporter": "python",
   "pygments_lexer": "ipython3",
   "version": "3.9.6"
  }
 },
 "nbformat": 4,
 "nbformat_minor": 4
}

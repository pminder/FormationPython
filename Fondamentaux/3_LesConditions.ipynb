{
 "cells": [
  {
   "cell_type": "markdown",
   "metadata": {},
   "source": [
    "# Introduction au mode de pensée reptilien\n",
    "\n",
    "## II. La syntaxe indentée\n",
    "\n",
    "Grâce au concept **d'indentation**, nous allons voir que la syntaxe du langage `python` permet d'utiliser facilement des concepts de programmation très puissants. Je veux parler : \n",
    "- des conditions\n",
    "- de la définition de fonction personnalisées\n",
    "- des boucles "
   ]
  },
  {
   "cell_type": "markdown",
   "metadata": {},
   "source": [
    "**Remarque** : l'indentation est fondamentale pour que le programme s'exécute correctement. Il ne s'agit pas d'une simple convention de présentation, comme en SAS."
   ]
  },
  {
   "cell_type": "markdown",
   "metadata": {},
   "source": [
    "### A - Les conditions"
   ]
  },
  {
   "cell_type": "code",
   "execution_count": 3,
   "metadata": {},
   "outputs": [
    {
     "name": "stdout",
     "output_type": "stream",
     "text": [
      "Début du programme\n",
      "Fin du programme\n"
     ]
    }
   ],
   "source": [
    "# Quelques variables pour l'exemple\n",
    "a = 10\n",
    "b = 11 # On pourra modifier une valeur\n",
    "\n",
    "print(\"Début du programme\")\n",
    "\n",
    "if a == b: # Notez les deux points et le double égal !!\n",
    "    # Tout ce qui se situe dans ce bloc, ce sera exécuté que si l'égalité est vérifiée\n",
    "    print(\"Egalité vérifiée\")\n",
    "\n",
    "# Dès que l'on sort du bloc, toutes les lignes sont à nouveau exécutées\n",
    "print(\"Fin du programme\")"
   ]
  },
  {
   "cell_type": "code",
   "execution_count": 4,
   "metadata": {},
   "outputs": [
    {
     "name": "stdout",
     "output_type": "stream",
     "text": [
      "13 > 12\n"
     ]
    }
   ],
   "source": [
    "a = 13\n",
    "b = 12\n",
    "\n",
    "# On peut définir des conditions plus évoluées\n",
    "if a > b:\n",
    "    print(f\"{a} > {b}\")\n",
    "elif a == b: \n",
    "    print(f\"{a} = {b}\")\n",
    "else:\n",
    "    print(f\"{a} < {b}\")\n",
    "    \n",
    "# Remarque, on pourra essayer avec des flottants et des chaînes de caractères"
   ]
  },
  {
   "cell_type": "markdown",
   "metadata": {},
   "source": [
    "### Exercice 1 : Calcul d'un tarif...\n",
    "...extrêmement sophistiqué"
   ]
  },
  {
   "cell_type": "markdown",
   "metadata": {},
   "source": [
    "![alt text](img/tarif.PNG \"Title\")"
   ]
  },
  {
   "cell_type": "markdown",
   "metadata": {},
   "source": [
    "Implémentons ce tarif : "
   ]
  },
  {
   "cell_type": "code",
   "execution_count": null,
   "metadata": {},
   "outputs": [],
   "source": []
  },
  {
   "cell_type": "markdown",
   "metadata": {},
   "source": [
    "### B - Des fonctions personnalisées"
   ]
  },
  {
   "cell_type": "markdown",
   "metadata": {},
   "source": [
    "Il s'agit d'un équivalent des macros SAS mais en `python` les fonctions sont très utilisées et très faciles à implémenter : "
   ]
  },
  {
   "cell_type": "code",
   "execution_count": 5,
   "metadata": {},
   "outputs": [],
   "source": [
    "def calculer_tarif(age, experience, couleur_voiture):\n",
    "\n",
    "    if age < 25:\n",
    "        if experience < 3:\n",
    "            tarif = \"Très cher\"\n",
    "        else:\n",
    "            tarif = \"Cher\"\n",
    "            \n",
    "    else:\n",
    "        if couleur_voiture == \"rouge\":\n",
    "            tarif = \"Cher\"\n",
    "        else:\n",
    "            tarif = \"Modéré\"       \n",
    "            \n",
    "    return tarif"
   ]
  },
  {
   "cell_type": "code",
   "execution_count": 6,
   "metadata": {},
   "outputs": [
    {
     "data": {
      "text/plain": [
       "'Modéré'"
      ]
     },
     "execution_count": 6,
     "metadata": {},
     "output_type": "execute_result"
    }
   ],
   "source": [
    "tarif = calculer_tarif(50, 5, \"bleue\")\n",
    "print(tarif)"
   ]
  },
  {
   "cell_type": "markdown",
   "metadata": {},
   "source": [
    "### Exercice 2 \n",
    "1. Ecrire une fonction qui renvoit le dernier chiffre d'un nombre \n",
    "2. En utilisant la fonction précédente, écrire une autre fonction qui renvoie True si un nombre est pair"
   ]
  },
  {
   "cell_type": "code",
   "execution_count": null,
   "metadata": {},
   "outputs": [],
   "source": [
    "def dernier_chiffre(nombre):\n",
    "    \"\"\"Récupère le dernier chiffre d'un nombre\n",
    "    \n",
    "    Args:\n",
    "        nombre : un entier ou un flottant\n",
    "        \n",
    "    Returns:\n",
    "        une chaîne de caractère contenant le dernier chiffre de nombre. \n",
    "        Par exemple :\n",
    "            >>> dernier_chiffre(134)\n",
    "            '4'\n",
    "    \"\"\"\n",
    "    pass"
   ]
  },
  {
   "cell_type": "code",
   "execution_count": null,
   "metadata": {},
   "outputs": [],
   "source": [
    "def est_pair(nombre):\n",
    "    \"\"\"Vérifie qu'un nombre est pair\n",
    "    \n",
    "    Args:\n",
    "        nombre : un entier ou un flottant\n",
    "        \n",
    "    Returns:\n",
    "        True si le nombre est pair et False sinon\n",
    "        (notamment si le nombre est décimal)\n",
    "    \"\"\"\n",
    "    pass"
   ]
  },
  {
   "cell_type": "markdown",
   "metadata": {},
   "source": [
    "### C - Les boucles"
   ]
  },
  {
   "cell_type": "markdown",
   "metadata": {},
   "source": [
    "On retrouve le même concept d'indentation qui permet de facilement suivre l'exécution d'un programme contenant des boucles."
   ]
  },
  {
   "cell_type": "code",
   "execution_count": 10,
   "metadata": {},
   "outputs": [
    {
     "name": "stdout",
     "output_type": "stream",
     "text": [
      "Clémentine\n",
      "Grace\n",
      "Charles\n",
      "Carminda\n",
      "Maud\n",
      "Jessica\n",
      "Paul\n",
      "Véronique\n",
      "Soukaina\n",
      "Ratiba\n",
      "Coline\n",
      "Mouhamed\n",
      "Yoan\n"
     ]
    }
   ],
   "source": [
    "# On définit une liste que l'on souhaite parcourir\n",
    "equipe = [\n",
    "    'Clémentine', \n",
    "    'Grace',\n",
    "    'Charles',\n",
    "    'Carminda',\n",
    "    'Maud',\n",
    "    'Jessica', \n",
    "    'Paul',\n",
    "    'Véronique', \n",
    "    'Soukaina', \n",
    "    'Ratiba',\n",
    "    'Coline',\n",
    "    'Mouhamed',\n",
    "    'Yoan'\n",
    "]\n",
    "\n",
    "# On utilise pour cela une boucle for\n",
    "for collaborateur in equipe:\n",
    "    print(collaborateur)"
   ]
  },
  {
   "cell_type": "code",
   "execution_count": 13,
   "metadata": {},
   "outputs": [
    {
     "name": "stdout",
     "output_type": "stream",
     "text": [
      "['Clémentine', 'Carminda', 'Jessica', 'Véronique', 'Soukaina', 'Ratiba', 'Coline']\n"
     ]
    }
   ],
   "source": [
    "# On peut donc très facilement créer un sous-ensemble de collaborateurs, dont le prénom contient un 'i' minuscule par exemple\n",
    "\n",
    "# On initialise une nouvelle liste\n",
    "equipe_prenom_avec_i = [] # Pour le moment la liste est vide\n",
    "\n",
    "# Pour chaque collaborateur\n",
    "for collaborateur in equipe:\n",
    "    # Si le prénom contient un s\n",
    "    if 'i' in collaborateur:\n",
    "        # On l'ajoute à la nouvelle liste\n",
    "        equipe_prenom_avec_i.append(collaborateur)\n",
    "        \n",
    "print(equipe_prenom_avec_i)"
   ]
  },
  {
   "cell_type": "code",
   "execution_count": 8,
   "metadata": {},
   "outputs": [
    {
     "name": "stdout",
     "output_type": "stream",
     "text": [
      "P\n",
      "y\n",
      "t\n",
      "h\n",
      "o\n",
      "n\n"
     ]
    }
   ],
   "source": [
    "# En python, on peut parcourir de nombreux objets, comme les chaînes de caractères\n",
    "mot = \"Python\"\n",
    "for lettre in mot:\n",
    "    print(lettre)"
   ]
  },
  {
   "cell_type": "markdown",
   "metadata": {},
   "source": [
    "### Exercice 3 : \n",
    "Ecrire et documenter une fonction permettant de dédoublonner une liste"
   ]
  },
  {
   "cell_type": "code",
   "execution_count": null,
   "metadata": {},
   "outputs": [],
   "source": [
    "def dedoublonner(liste):\n",
    "    pass"
   ]
  },
  {
   "cell_type": "code",
   "execution_count": null,
   "metadata": {},
   "outputs": [],
   "source": [
    "numeros_sinistre = [\n",
    "    1111111173,\n",
    "    1111111173,\n",
    "    1111111173,\n",
    "    2222222273,\n",
    "    6762561873,\n",
    "    2222222273,\n",
    "    5431265473,\n",
    "    7653256273\n",
    "]\n",
    "\n",
    "print(dedoublonner(numeros_sinistre))"
   ]
  },
  {
   "cell_type": "markdown",
   "metadata": {},
   "source": [
    "#### En bonus : prenons-nous la tête avec les indices et la fonction `range`..."
   ]
  },
  {
   "cell_type": "code",
   "execution_count": 14,
   "metadata": {},
   "outputs": [
    {
     "name": "stdout",
     "output_type": "stream",
     "text": [
      "2\n",
      "3\n",
      "4\n",
      "5\n",
      "6\n"
     ]
    }
   ],
   "source": [
    "# La fonction range permet de créer une boucle allant ici de 2 à 7 - 1 = 6...\n",
    "for i in range(2, 7):\n",
    "    print(i)"
   ]
  },
  {
   "cell_type": "code",
   "execution_count": 15,
   "metadata": {},
   "outputs": [
    {
     "name": "stdout",
     "output_type": "stream",
     "text": [
      "Clémentine\n",
      "13\n"
     ]
    },
    {
     "ename": "IndexError",
     "evalue": "list index out of range",
     "output_type": "error",
     "traceback": [
      "\u001b[0;31m---------------------------------------------------------------------------\u001b[0m",
      "\u001b[0;31mIndexError\u001b[0m                                Traceback (most recent call last)",
      "\u001b[0;32m/tmp/ipykernel_2915/2701182294.py\u001b[0m in \u001b[0;36m<module>\u001b[0;34m\u001b[0m\n\u001b[1;32m      4\u001b[0m \u001b[0mtaille_equipe\u001b[0m \u001b[0;34m=\u001b[0m \u001b[0mlen\u001b[0m\u001b[0;34m(\u001b[0m\u001b[0mequipe\u001b[0m\u001b[0;34m)\u001b[0m\u001b[0;34m\u001b[0m\u001b[0;34m\u001b[0m\u001b[0m\n\u001b[1;32m      5\u001b[0m \u001b[0mprint\u001b[0m\u001b[0;34m(\u001b[0m\u001b[0mtaille_equipe\u001b[0m\u001b[0;34m)\u001b[0m\u001b[0;34m\u001b[0m\u001b[0;34m\u001b[0m\u001b[0m\n\u001b[0;32m----> 6\u001b[0;31m \u001b[0mprint\u001b[0m\u001b[0;34m(\u001b[0m\u001b[0mequipe\u001b[0m\u001b[0;34m[\u001b[0m\u001b[0mtaille_equipe\u001b[0m\u001b[0;34m]\u001b[0m\u001b[0;34m)\u001b[0m\u001b[0;34m\u001b[0m\u001b[0;34m\u001b[0m\u001b[0m\n\u001b[0m",
      "\u001b[0;31mIndexError\u001b[0m: list index out of range"
     ]
    }
   ],
   "source": [
    "# Mais cela est utile pour parcourir les listes dont le premier index est 0\n",
    "print(equipe[0])\n",
    "# Et qui du coup n'ont pas d'index correspondant à leur longueur\n",
    "taille_equipe = len(equipe)\n",
    "print(taille_equipe)\n",
    "print(equipe[taille_equipe])"
   ]
  },
  {
   "cell_type": "code",
   "execution_count": 16,
   "metadata": {},
   "outputs": [
    {
     "name": "stdout",
     "output_type": "stream",
     "text": [
      "Collaborateur n°0 : Clémentine\n",
      "Collaborateur n°1 : Grace\n",
      "Collaborateur n°2 : Charles\n",
      "Collaborateur n°3 : Carminda\n",
      "Collaborateur n°4 : Maud\n",
      "Collaborateur n°5 : Jessica\n",
      "Collaborateur n°6 : Paul\n",
      "Collaborateur n°7 : Véronique\n",
      "Collaborateur n°8 : Soukaina\n",
      "Collaborateur n°9 : Ratiba\n",
      "Collaborateur n°10 : Coline\n",
      "Collaborateur n°11 : Mouhamed\n",
      "Collaborateur n°12 : Yoan\n"
     ]
    }
   ],
   "source": [
    "# D'où la syntaxe ultra classique\n",
    "for i in range(taille_equipe):\n",
    "    print(f\"Collaborateur n°{i} : {equipe[i]}\")"
   ]
  },
  {
   "cell_type": "code",
   "execution_count": 18,
   "metadata": {},
   "outputs": [
    {
     "name": "stdout",
     "output_type": "stream",
     "text": [
      "Collaborateur n°00 : Clémentine\n",
      "Collaborateur n°01 : Grace\n",
      "Collaborateur n°02 : Charles\n",
      "Collaborateur n°03 : Carminda\n",
      "Collaborateur n°04 : Maud\n",
      "Collaborateur n°05 : Jessica\n",
      "Collaborateur n°06 : Paul\n",
      "Collaborateur n°07 : Véronique\n",
      "Collaborateur n°08 : Soukaina\n",
      "Collaborateur n°09 : Ratiba\n",
      "Collaborateur n°10 : Coline\n",
      "Collaborateur n°11 : Mouhamed\n",
      "Collaborateur n°12 : Yoan\n"
     ]
    }
   ],
   "source": [
    "# Pour ceux qui seraient un peu maniaques \n",
    "for i in range(taille_equipe):\n",
    "    print(f\"Collaborateur n°{i:0>2} : {equipe[i]}\")"
   ]
  },
  {
   "cell_type": "markdown",
   "metadata": {},
   "source": [
    "### Exercice\n",
    "Ecrire (pas besoin de documenter) une fonction permettant de trouver l'index du premier collaborateur dont le prénom contient une lettre donnée"
   ]
  },
  {
   "cell_type": "code",
   "execution_count": null,
   "metadata": {},
   "outputs": [],
   "source": [
    "def trouver_index_prenom_contenant(liste, lettre):\n",
    "    pass"
   ]
  }
 ],
 "metadata": {
  "kernelspec": {
   "display_name": "Python 3 (ipykernel)",
   "language": "python",
   "name": "python3"
  },
  "language_info": {
   "codemirror_mode": {
    "name": "ipython",
    "version": 3
   },
   "file_extension": ".py",
   "mimetype": "text/x-python",
   "name": "python",
   "nbconvert_exporter": "python",
   "pygments_lexer": "ipython3",
   "version": "3.9.7"
  }
 },
 "nbformat": 4,
 "nbformat_minor": 4
}

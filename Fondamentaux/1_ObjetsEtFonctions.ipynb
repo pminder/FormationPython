{
 "cells": [
  {
   "cell_type": "markdown",
   "metadata": {},
   "source": [
    "# Introduction au mode de pensée reptilien\n"
   ]
  },
  {
   "cell_type": "markdown",
   "metadata": {},
   "source": [
    "Cette séance sera sans doute la plus abstraite de nos ateliers mais elle nous permettra d'introduire les trois idées qui, à mon avis, vous seront extrêmement utiles pour cerner les spécificités du langage `python` : "
   ]
  },
  {
   "cell_type": "markdown",
   "metadata": {},
   "source": [
    "#### Le `python` en 3 notions clés : \n",
    "- La programmation python consiste à appliquer des **fonctions** sur des **objets**\n",
    "- La syntaxe repose sur le concept **d'indentation**\n",
    "- La force de l'écosystème repose sur les **modules**"
   ]
  },
  {
   "cell_type": "markdown",
   "metadata": {},
   "source": [
    "## I. Les objets et les fonctions"
   ]
  },
  {
   "cell_type": "markdown",
   "metadata": {},
   "source": [
    "Il s'agit de deux notions fondamentales sur lesquelles repose l'intégralité du langage. Il est donc important d'y prêter attention dès maintenant car cette approche est finalement assez différente du concept de procédure en SAS.\n",
    "\n",
    "Les objets, que l'on peut voir comme des variables améliorées, peuvent représenter absolument tout et n'importe quoi : un nombre entier, une chaîne de caractères, un tableau de données etc. Les fonctions s'appliquent sur un ou plusieurs objet(s) par exemple pour les afficher, pour mettre en majuscules une chaîne de caractères ou encore calculer une moyenne."
   ]
  },
  {
   "cell_type": "markdown",
   "metadata": {},
   "source": [
    "#### Exemples avec des entiers"
   ]
  },
  {
   "cell_type": "code",
   "execution_count": 8,
   "metadata": {},
   "outputs": [],
   "source": [
    "# Définir deux objets (python se charge de deviner le type de l'objet que l'on souhaite créer, ici des entiers)\n",
    "entier_a = 2\n",
    "entier_b = 3"
   ]
  },
  {
   "cell_type": "code",
   "execution_count": 9,
   "metadata": {},
   "outputs": [
    {
     "name": "stdout",
     "output_type": "stream",
     "text": [
      "2\n",
      "3\n"
     ]
    }
   ],
   "source": [
    "# Afficher le contenu de l'objet entier_a\n",
    "print(entier_a)\n",
    "# Afficher le contenu de l'objet entier_b\n",
    "print(entier_b)"
   ]
  },
  {
   "cell_type": "markdown",
   "metadata": {},
   "source": [
    "#### Exemples avec des chaînes de caractères"
   ]
  },
  {
   "cell_type": "code",
   "execution_count": 6,
   "metadata": {},
   "outputs": [],
   "source": [
    "# Définir une chaîne de caractères\n",
    "chaine_de_caracteres = \"Les Claims Analytics seront bientôt imbattables en Python !\""
   ]
  },
  {
   "cell_type": "code",
   "execution_count": 10,
   "metadata": {},
   "outputs": [],
   "source": [
    "# Calculer la longueur de la chaîne\n",
    "longueur_chaine = len(chaine_de_caracteres)\n",
    "# Créer une nouvelle chaîne en majuscules\n",
    "chaine_en_majuscules = chaine_de_caracteres.upper() # Remarquez la syntaxe"
   ]
  },
  {
   "cell_type": "code",
   "execution_count": 11,
   "metadata": {},
   "outputs": [
    {
     "name": "stdout",
     "output_type": "stream",
     "text": [
      "59\n",
      "LES CLAIMS ANALYTICS SERONT BIENTÔT IMBATTABLES EN PYTHON !\n"
     ]
    }
   ],
   "source": [
    "# Afficher les résultats avec l'équivalent de %put\n",
    "print(longueur_chaine)\n",
    "print(chaine_en_majuscules)"
   ]
  },
  {
   "cell_type": "markdown",
   "metadata": {},
   "source": [
    "#### Exemples avec des listes de nombres"
   ]
  },
  {
   "cell_type": "code",
   "execution_count": 13,
   "metadata": {},
   "outputs": [],
   "source": [
    "# Définir une liste de nombres (entiers et décimaux)\n",
    "notes = [17, 9.5, 6, 19, 13, 15, 19.5]\n",
    "# Calculer la somme\n",
    "somme_notes = sum(notes)\n",
    "# Calculer la moyenne\n",
    "moyenne_notes = sum(notes) / len(notes)"
   ]
  },
  {
   "cell_type": "code",
   "execution_count": 14,
   "metadata": {},
   "outputs": [
    {
     "name": "stdout",
     "output_type": "stream",
     "text": [
      "99.0\n",
      "14.142857142857142\n"
     ]
    }
   ],
   "source": [
    "print(somme_notes)\n",
    "print(moyenne_notes)"
   ]
  },
  {
   "cell_type": "markdown",
   "metadata": {},
   "source": [
    "#### Exemples avancés mais édifiants !"
   ]
  },
  {
   "cell_type": "code",
   "execution_count": 15,
   "metadata": {},
   "outputs": [
    {
     "name": "stdout",
     "output_type": "stream",
     "text": [
      "5\n"
     ]
    }
   ],
   "source": [
    "# On appelle en fait de manière cachée une fonction \"sum_integers\"...\n",
    "entier_c = entier_a + entier_b\n",
    "print(entier_c)"
   ]
  },
  {
   "cell_type": "code",
   "execution_count": 16,
   "metadata": {},
   "outputs": [
    {
     "name": "stdout",
     "output_type": "stream",
     "text": [
      "La somme de 2 et 3 vaut 5\n"
     ]
    }
   ],
   "source": [
    "chaine_template = \"La somme de {} et {} vaut {}\"\n",
    "# On applique la fonction \"format\" pour remplacer les accolades dans la chaîne\n",
    "chaine_completee = chaine_template.format(entier_a, entier_b, entier_c)\n",
    "print(chaine_completee)"
   ]
  },
  {
   "cell_type": "code",
   "execution_count": 17,
   "metadata": {},
   "outputs": [
    {
     "name": "stdout",
     "output_type": "stream",
     "text": [
      "La somme de 2 et 3 vaut 5\n"
     ]
    }
   ],
   "source": [
    "# Ou de manière encore plus cachée et synthétique\n",
    "chaine_qui_prouve_qu_on_commence_a_etre_bon = f\"La somme de {entier_a} et {entier_b} vaut {entier_c}\"\n",
    "print(chaine_qui_prouve_qu_on_commence_a_etre_bon)"
   ]
  },
  {
   "cell_type": "markdown",
   "metadata": {},
   "source": [
    "# Quelques exercices"
   ]
  },
  {
   "cell_type": "markdown",
   "metadata": {},
   "source": [
    "### Exercice 1\n",
    "Supprimer tous les 's' du vers suivant à l'aide de la fonction `replace`"
   ]
  },
  {
   "cell_type": "code",
   "execution_count": 21,
   "metadata": {},
   "outputs": [],
   "source": [
    "vers = \"Pour qui sont ces serpents qui sifflent sur vos têtes\"\n",
    "vers_sans_s = "
   ]
  },
  {
   "cell_type": "code",
   "execution_count": 22,
   "metadata": {},
   "outputs": [
    {
     "name": "stdout",
     "output_type": "stream",
     "text": [
      "Qui sont ces serpents qui sifflent sur vos têtes\n",
      "Qui ont ce erpent qui ifflent ur vo tête\n"
     ]
    }
   ],
   "source": [
    "print(vers)\n",
    "print(vers_sans_s)"
   ]
  },
  {
   "cell_type": "markdown",
   "metadata": {},
   "source": [
    "### Exercice 2 (beaucoup plus important qu'il n'y paraît)\n",
    "Compter le nombre de s de ce même vers à l'aide d'une fonction que vous chercherez sur internet :) Vous vous rendrez vite compte que l'une des principales forces du langage est la communauté d'enthousiastes qui se rassemblent autour de lui. Il y a donc énormément de fonctions qui ont déjà été codées par d'excellents développeurs et énormement de questions de débutants sur les forums auxquels ont répondu de vieux vétérans. Plus vous serez à l'aise en python et plus vous sentirez d'instinct si une fonction est susceptible de déjà exister qui pourrait permettre de faire ce que vous cherchez à faire ! "
   ]
  },
  {
   "cell_type": "code",
   "execution_count": 23,
   "metadata": {},
   "outputs": [],
   "source": [
    "nombre_de_s = "
   ]
  },
  {
   "cell_type": "code",
   "execution_count": 24,
   "metadata": {},
   "outputs": [
    {
     "name": "stdout",
     "output_type": "stream",
     "text": [
      "Qui sont ces serpents qui sifflent sur vos têtes\n",
      "8\n"
     ]
    }
   ],
   "source": [
    "print(vers)\n",
    "print(nombre_de_s)"
   ]
  },
  {
   "cell_type": "markdown",
   "metadata": {},
   "source": [
    "### Convention de nommage\n",
    "- utiliser uniquement des minuscules\n",
    "- séparer les mots par des underscores\n",
    "\n",
    "Quitte à écrire plus, il faut essayer de rendre le nom de la variable aussi informatif que possible quant au contenu\n",
    "\n",
    "Exemple : \n",
    "- `age_du_capitaine`\n",
    "\n",
    "Contre-exemples:\n",
    "- `ageDuCapitaine` : pas `PEP8` !\n",
    "- `capitaine` : pas assez explicite ! \n",
    "\n",
    "**Attention !** Contrairement à `SAS`, `python` est sensible à la casse."
   ]
  }
 ],
 "metadata": {
  "kernelspec": {
   "display_name": "Python 3 (ipykernel)",
   "language": "python",
   "name": "python3"
  },
  "language_info": {
   "codemirror_mode": {
    "name": "ipython",
    "version": 3
   },
   "file_extension": ".py",
   "mimetype": "text/x-python",
   "name": "python",
   "nbconvert_exporter": "python",
   "pygments_lexer": "ipython3",
   "version": "3.9.7"
  }
 },
 "nbformat": 4,
 "nbformat_minor": 4
}

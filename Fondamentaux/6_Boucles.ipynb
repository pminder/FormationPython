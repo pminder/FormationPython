{
 "cells": [
  {
   "cell_type": "markdown",
   "metadata": {},
   "source": [
    "# Les boucles\n"
   ]
  },
  {
   "cell_type": "code",
   "execution_count": 1,
   "metadata": {},
   "outputs": [],
   "source": [
    "joueurs = ['Joueur n°1', 'Joueur n°2', 'Joueur n°3']"
   ]
  },
  {
   "cell_type": "code",
   "execution_count": 3,
   "metadata": {},
   "outputs": [
    {
     "name": "stdout",
     "output_type": "stream",
     "text": [
      "Joueur n°1\n",
      "Joueur n°2\n",
      "Joueur n°3\n"
     ]
    }
   ],
   "source": [
    "for numero_joueur in joueurs:\n",
    "    print(numero_joueur)"
   ]
  },
  {
   "cell_type": "code",
   "execution_count": 4,
   "metadata": {},
   "outputs": [
    {
     "name": "stdout",
     "output_type": "stream",
     "text": [
      "P\n",
      "y\n",
      "t\n",
      "h\n",
      "o\n",
      "n\n"
     ]
    }
   ],
   "source": [
    "mot = \"Python\"\n",
    "for lettre in mot:\n",
    "    print(lettre)"
   ]
  },
  {
   "cell_type": "code",
   "execution_count": 5,
   "metadata": {},
   "outputs": [
    {
     "name": "stdout",
     "output_type": "stream",
     "text": [
      "2\n",
      "3\n"
     ]
    }
   ],
   "source": [
    "for i in range(2, 4):\n",
    "    print(i)"
   ]
  },
  {
   "cell_type": "code",
   "execution_count": 7,
   "metadata": {},
   "outputs": [
    {
     "name": "stdout",
     "output_type": "stream",
     "text": [
      "Joueur n°1 (indice '0')\n",
      "Joueur n°2 (indice '1')\n",
      "Joueur n°3 (indice '2')\n"
     ]
    }
   ],
   "source": [
    "for i in range(len(joueurs)):\n",
    "    print(f\"{joueurs[i]} (indice '{i}')\")"
   ]
  },
  {
   "cell_type": "code",
   "execution_count": 8,
   "metadata": {},
   "outputs": [
    {
     "name": "stdout",
     "output_type": "stream",
     "text": [
      "i = 0\n",
      "i = 1\n",
      "i = 2\n",
      "i = 3\n",
      "i = 4\n",
      "i = 5\n",
      "i = 6\n",
      "i = 7\n",
      "i = 8\n",
      "i = 9\n"
     ]
    }
   ],
   "source": [
    "maximum = 10\n",
    "i = 0\n",
    "while i < maximum:\n",
    "    print(f\"i = {i}\")\n",
    "    i = i + 1"
   ]
  },
  {
   "cell_type": "code",
   "execution_count": null,
   "metadata": {},
   "outputs": [],
   "source": [
    "maximum = 10\n",
    "i = 0\n",
    "while i < maximum:\n",
    "    print(f\"i = {i}\")\n",
    "    print(\"Je me suis fait avoir...\")"
   ]
  },
  {
   "cell_type": "markdown",
   "metadata": {},
   "source": [
    "# Un pendu\n",
    "Le but de cet exercice est de coder un pendu ! C'est un exercice un peu plus ambitieux que les précédents mais qui a été pour moi très formateur ;) \n",
    "\n",
    "Afin de rendre le programme interactif, on utilisera la fonction `input`"
   ]
  },
  {
   "cell_type": "code",
   "execution_count": 2,
   "metadata": {},
   "outputs": [
    {
     "name": "stdout",
     "output_type": "stream",
     "text": [
      "Veuillez choisir un mot : Rastapopoulos\n",
      "Vous avez choisi le mot Rastapopoulos\n"
     ]
    }
   ],
   "source": [
    "mot_choisi = input(\"Veuillez choisir un mot : \")\n",
    "print(f\"Vous avez choisi le mot : {mot_choisi}\")"
   ]
  },
  {
   "cell_type": "code",
   "execution_count": 3,
   "metadata": {},
   "outputs": [],
   "source": [
    "tentatives_max = 10\n",
    "vocabulaire = [\n",
    "    'Clémentine', \n",
    "    'Grace',\n",
    "    'Charles',\n",
    "    'Carminda',\n",
    "    'Maud',\n",
    "    'Jessica', \n",
    "    'Véronique', \n",
    "    'Soukaina', \n",
    "    'Ratiba', \n",
    "]"
   ]
  },
  {
   "cell_type": "code",
   "execution_count": null,
   "metadata": {},
   "outputs": [],
   "source": []
  },
  {
   "cell_type": "code",
   "execution_count": null,
   "metadata": {},
   "outputs": [],
   "source": []
  },
  {
   "cell_type": "code",
   "execution_count": null,
   "metadata": {},
   "outputs": [],
   "source": []
  }
 ],
 "metadata": {
  "kernelspec": {
   "display_name": "Python 3",
   "language": "python",
   "name": "python3"
  },
  "language_info": {
   "codemirror_mode": {
    "name": "ipython",
    "version": 3
   },
   "file_extension": ".py",
   "mimetype": "text/x-python",
   "name": "python",
   "nbconvert_exporter": "python",
   "pygments_lexer": "ipython3",
   "version": "3.9.6"
  }
 },
 "nbformat": 4,
 "nbformat_minor": 4
}

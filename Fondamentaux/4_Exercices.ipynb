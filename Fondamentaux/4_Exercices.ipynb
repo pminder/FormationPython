{
 "cells": [
  {
   "cell_type": "markdown",
   "id": "da7caac7",
   "metadata": {},
   "source": [
    "# Exercices"
   ]
  },
  {
   "cell_type": "markdown",
   "id": "66cb781a",
   "metadata": {},
   "source": [
    "## Exercice 1 : Palindromes"
   ]
  },
  {
   "cell_type": "markdown",
   "id": "078d5e20",
   "metadata": {},
   "source": [
    "## Exercice 2 : Simulation de l'euro million"
   ]
  },
  {
   "cell_type": "markdown",
   "id": "4d953a5f",
   "metadata": {},
   "source": [
    "## Exercice 3 : César"
   ]
  },
  {
   "cell_type": "markdown",
   "id": "7bbaef8b",
   "metadata": {},
   "source": [
    "## Exercice 4 : Ascii Art de Noël"
   ]
  },
  {
   "cell_type": "code",
   "execution_count": null,
   "id": "7ad5bccc",
   "metadata": {},
   "outputs": [],
   "source": []
  }
 ],
 "metadata": {
  "kernelspec": {
   "display_name": "Python 3 (ipykernel)",
   "language": "python",
   "name": "python3"
  },
  "language_info": {
   "codemirror_mode": {
    "name": "ipython",
    "version": 3
   },
   "file_extension": ".py",
   "mimetype": "text/x-python",
   "name": "python",
   "nbconvert_exporter": "python",
   "pygments_lexer": "ipython3",
   "version": "3.9.7"
  }
 },
 "nbformat": 4,
 "nbformat_minor": 5
}

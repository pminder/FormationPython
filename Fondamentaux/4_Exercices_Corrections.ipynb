{
 "cells": [
  {
   "cell_type": "markdown",
   "id": "da7caac7",
   "metadata": {},
   "source": [
    "# Exercices "
   ]
  },
  {
   "cell_type": "markdown",
   "id": "1e58b728",
   "metadata": {},
   "source": [
    "Pour apprendre le fourchelangue..."
   ]
  },
  {
   "cell_type": "markdown",
   "id": "63b5d7fe",
   "metadata": {},
   "source": [
    "### Exercice 1"
   ]
  },
  {
   "cell_type": "markdown",
   "id": "0d0c4d6f",
   "metadata": {},
   "source": [
    "![rogueUrl](https://th.bing.com/th/id/R.2b5783c089628b64937c77ecda8d5833?rik=8dgW9vMXuw5r2Q&riu=http%3a%2f%2fimages6.fanpop.com%2fimage%2fphotos%2f39300000%2fTurn-To-Page-394-harry-potter-39394375-500-202.gif&ehk=qsqw%2fy03dJ7%2f20FGc4DwTiDs%2fw2f1sEEDPEdy2kWyQs%3d&risl=&pid=ImgRaw&r=0 \"rogue\")"
   ]
  },
  {
   "cell_type": "markdown",
   "id": "61b83c10",
   "metadata": {},
   "source": [
    "Afin de pouvoir suivre les leçons de Rogue dans les meilleures conditions, il faut se dépêcher d'ouvrir son manuel à la bonne page. Au cas où, sous le choc de son entrée fracassante, vous n'ayez pas retenu le numéro de la page, sauriez-vous implémenter une fonction permettant de la retrouver à votre place ?"
   ]
  },
  {
   "cell_type": "code",
   "execution_count": 5,
   "id": "366259b8",
   "metadata": {},
   "outputs": [],
   "source": [
    "def est_un_chiffre(lettre):\n",
    "    \"\"\"Renvoie True si 'lettre' est un chiffre et False sinon\"\"\"\n",
    "    return lettre in \"0123456789\"\n",
    "\n",
    "def turn_to_page(phrase):\n",
    "    \"\"\"\n",
    "    Extrait les chiffres d'une chaîne de caractères et les convertit en nombre\n",
    "    \n",
    "    Args:\n",
    "        - phrase : la chaîne de caractère dont on souhaite extraire les chiffres\n",
    "        \n",
    "    Returns:\n",
    "        le nombre composé des chiffres extraits\n",
    "    \"\"\"\n",
    "    # on initialise la chaîne qui contiendra tous les chiffres de 'phrase'\n",
    "    chiffres = \"\"\n",
    "    # on boucle sur les lettres \n",
    "    for lettre in phrase:\n",
    "        # on conserve celles qui sont des chiffres\n",
    "        if est_un_chiffre(lettre):\n",
    "            chiffres += lettre\n",
    "    # on convertit le tout en nombre\n",
    "    return int(chiffres)"
   ]
  },
  {
   "cell_type": "code",
   "execution_count": 7,
   "id": "309852d3",
   "metadata": {},
   "outputs": [
    {
     "name": "stdout",
     "output_type": "stream",
     "text": [
      "10 points pour claims analytics ! \n"
     ]
    }
   ],
   "source": [
    "assert turn_to_page(\"Turn to page 394!\") == 394, \"Pathetic, comme dirait Rogue :)\"\n",
    "print(\"10 points pour claims analytics ! \")"
   ]
  },
  {
   "cell_type": "markdown",
   "id": "5698b8cc",
   "metadata": {},
   "source": [
    "### Exercice 2"
   ]
  },
  {
   "cell_type": "markdown",
   "id": "06d4c83f",
   "metadata": {},
   "source": [
    "![Harry](https://media.giphy.com/media/si9QFUXkItieY/giphy.gif \"Harry\")"
   ]
  },
  {
   "cell_type": "markdown",
   "id": "87ff3438",
   "metadata": {},
   "source": [
    "Ronald décide d'aider son camarade en fabriquant une sorte de rappelletout algorithmique. L'idée est de prévenir Harry lorsqu'il se met à parler fourchelange sans s'en rendre compte... Le jeune Weasley se propose d'utiliser la proportion de sifflantes comme ingrédient de base de son détecteur magique. Saurez-vous l'aider à le concocter ?"
   ]
  },
  {
   "cell_type": "code",
   "execution_count": 17,
   "id": "414c3dc2",
   "metadata": {},
   "outputs": [],
   "source": [
    "def nombre_sifflantes(texte):\n",
    "    \"\"\"Renvoie le nombre de sifflantes dans 'texte'\"\"\"\n",
    "    n_sifflantes = 0\n",
    "    texte = texte.lower()\n",
    "    for consonne in [\"f\", \"s\", \"h\"]:\n",
    "        n_sifflantes += texte.count(consonne)\n",
    "    return n_sifflantes\n",
    "\n",
    "def detecteur_de_fourchelangue(texte):\n",
    "    \"\"\"Détecte une texte écrit en fourchelangue.\n",
    "    \n",
    "    Si la proportion de sifflante contenue dans le texte est supérieur à xxxxx, on\n",
    "    estime qu'il s'agit de fourchelangue.\n",
    "    \n",
    "    Args:\n",
    "        - texte : une chaîne de caractère écrite dans un langage réel ou imaginaire\n",
    "        \n",
    "    Returns:\n",
    "        True si le texte est écrit en fourchelangue. False sinon.\n",
    "    \"\"\"\n",
    "    seuil_fourchelangue = .2\n",
    "    return nombre_sifflantes(texte) / len(texte) >= seuil_fourchelangue\n",
    "    "
   ]
  },
  {
   "cell_type": "code",
   "execution_count": 20,
   "id": "c6fbb0b3",
   "metadata": {},
   "outputs": [
    {
     "name": "stdout",
     "output_type": "stream",
     "text": [
      "Bravo ! Harry ne saura comment vous remercier\n"
     ]
    }
   ],
   "source": [
    "phrase_fourchelangue = \"sayha gassi hëf ! haśéa gas saśig !\"\n",
    "phrase_anglais = \"Leave him alone ! Go away !\"\n",
    "\n",
    "assert detecteur_de_fourchelangue(phrase_fourchelangue), \"Dommage, il s'agissait de fourchelangue :(\"\n",
    "assert detecteur_de_fourchelangue(anglais) == False, \"Dommage, c'était pourtant de l'anglais :(\"\n",
    "print(\"Bravo ! Harry ne saura comment vous remercier\")"
   ]
  },
  {
   "cell_type": "markdown",
   "id": "608b86d8",
   "metadata": {},
   "source": [
    "![Hermione](https://th.bing.com/th/id/R.4e918773aacf101ca5312407a40043de?rik=gk2MnhkDJdf2tw&pid=ImgRaw&r=0 \"Hermione\")"
   ]
  },
  {
   "cell_type": "markdown",
   "id": "197035b4",
   "metadata": {},
   "source": [
    "Ron se vante de sa réussite auprès de son amie. L'intelligente et facétieuse Hermione s'empresse de lui faire remarquer que, s'il connaissait mieux ses classiques, il aurait peut-être pensé à Racine..."
   ]
  },
  {
   "cell_type": "code",
   "execution_count": 22,
   "id": "42aea547",
   "metadata": {},
   "outputs": [
    {
     "name": "stdout",
     "output_type": "stream",
     "text": [
      "True\n"
     ]
    }
   ],
   "source": [
    "vers = \"Qui sont ces serpents qui sifflent sur vos têtes ?\"\n",
    "print(detecteur_de_fourchelangue(vers))"
   ]
  },
  {
   "cell_type": "markdown",
   "id": "7bbaef8b",
   "metadata": {},
   "source": [
    "### Exercice 3"
   ]
  },
  {
   "attachments": {},
   "cell_type": "markdown",
   "id": "4b99aa63",
   "metadata": {},
   "source": [
    "![Hagrid](https://i.pinimg.com/originals/71/e4/50/71e45015fa6b5cbf1a795b5b4813a816.gif \"Hagrid\")"
   ]
  },
  {
   "cell_type": "markdown",
   "id": "8afff318",
   "metadata": {},
   "source": [
    "Le professeur Flitwick hésite sur la taille des sapins de Noël à commander pour cette année. Pourriez-vous l'aider à choisir la bonne dimension en complétant la fonction ci-dessous, qui vise à dessiner la silhouette d'un arbre de Noël de taille `n`"
   ]
  },
  {
   "cell_type": "code",
   "execution_count": 41,
   "id": "0537e0e4",
   "metadata": {},
   "outputs": [],
   "source": [
    "def sapin_de_noel(taille_sapin, taille_tronc):\n",
    "    \"\"\"\n",
    "    Construit un sapin de Noël en ascii art ! \n",
    "    \n",
    "    Args:\n",
    "        - taille_sapin : la taille du sapin de Noël\n",
    "        - taille_tronc : la taille du tronc\n",
    "        \n",
    "    Return:\n",
    "        Une chaîne de caractères représentant un joli sapin de Noël\n",
    "    \"\"\"\n",
    "    ascii_art = \"\"\n",
    "    caractere_fond = ' '\n",
    "    # On commence par le feuillage\n",
    "    for etage in range(taille_sapin):\n",
    "        # On saute à chaque fois une ligne\n",
    "        ascii_art += \"\\n\"\n",
    "        # D'abord le fond\n",
    "        ascii_art += caractere_fond * (taille_sapin - etage)\n",
    "        # Ensuite les feuilles\n",
    "        ascii_art += \"^\" * (2 * etage + 1)\n",
    "        # Le reste du fond \n",
    "        ascii_art += caractere_fond * (taille_sapin - etage)\n",
    "    # On finit avec le tronc (remarquez l'utilisation de la variable muette)\n",
    "    for _ in range(taille_tronc):\n",
    "        ascii_art += \"\\n\"\n",
    "        ascii_art += caractere_fond * taille_sapin + \"|\" + caractere_fond * taille_sapin\n",
    "    return ascii_art"
   ]
  },
  {
   "cell_type": "code",
   "execution_count": 42,
   "id": "a12c2ca9",
   "metadata": {},
   "outputs": [
    {
     "name": "stdout",
     "output_type": "stream",
     "text": [
      "\n",
      "          ^          \n",
      "         ^^^         \n",
      "        ^^^^^        \n",
      "       ^^^^^^^       \n",
      "      ^^^^^^^^^      \n",
      "     ^^^^^^^^^^^     \n",
      "    ^^^^^^^^^^^^^    \n",
      "   ^^^^^^^^^^^^^^^   \n",
      "  ^^^^^^^^^^^^^^^^^  \n",
      " ^^^^^^^^^^^^^^^^^^^ \n",
      "          |          \n",
      "          |          \n",
      "          |          \n"
     ]
    }
   ],
   "source": [
    "print(sapin_de_noel(10, 3))"
   ]
  },
  {
   "cell_type": "markdown",
   "id": "e68fe53e",
   "metadata": {},
   "source": [
    "Pour aller plus loin, on pourra mettre des couleurs et des décorations de manière aléatoire..."
   ]
  },
  {
   "cell_type": "code",
   "execution_count": 35,
   "id": "ab51ded6",
   "metadata": {},
   "outputs": [
    {
     "name": "stdout",
     "output_type": "stream",
     "text": [
      "\u001b[92m^\u001b[0m\n",
      "\u001b[91m*\u001b[0m\n"
     ]
    }
   ],
   "source": [
    "branche = '\\033[92m^\\033[0m'\n",
    "boule = '\\033[91m*\\033[0m'\n",
    "\n",
    "print(branche)\n",
    "print(boule)"
   ]
  },
  {
   "cell_type": "markdown",
   "id": "7e0da4c3",
   "metadata": {},
   "source": [
    "### Exercice 4"
   ]
  },
  {
   "cell_type": "markdown",
   "id": "b26b8aa1",
   "metadata": {},
   "source": [
    "![maraudeur](https://th.bing.com/th/id/R.c9935c19e4d515c8905b4ece011b89c9?rik=sBkjK51wDfP2FA&pid=ImgRaw&r=0 \"maraudeur\")"
   ]
  },
  {
   "cell_type": "markdown",
   "id": "1e920600",
   "metadata": {},
   "source": [
    "Comme vous le savez Neuville est un étourdi. Pour une raison qui serait trop longue à expliquer ici, Harry lui a prêté sa célèbre carte du maraudeur mais Neuville a oublié la formule permettant de l'ouvrir. Pourriez-vous l'aider à la retrouver ? Indice : la formule est composée seulement de lettres minuscules et sans accent."
   ]
  },
  {
   "cell_type": "code",
   "execution_count": null,
   "id": "f7559d7a",
   "metadata": {},
   "outputs": [],
   "source": [
    "# Ne vous occupez pas de cette cellule...\n",
    "import hashlib\n",
    "import json\n",
    "\n",
    "with open(\"carte_maraudeur.secret\", \"r\") as fichier:\n",
    "    formule_secrete = json.load(fichier)\n",
    "    \n",
    "def debut_formule_correct(debut_formule):\n",
    "    return hashlib.sha256(debut_formule.encode()).hexdigest() == formule_secrete[len(debut_formule) - 1]"
   ]
  },
  {
   "cell_type": "code",
   "execution_count": 80,
   "id": "6b31aafd",
   "metadata": {},
   "outputs": [],
   "source": [
    "def carte_du_maraudeur(formule):\n",
    "    \"\"\"Essayez de m'ouvrir ;)\"\"\"\n",
    "    message = \"\"\n",
    "    if len(formule) != len(formule_secrete):\n",
    "        return message\n",
    "    for i in range(len(formule)):\n",
    "        if not debut_formule_correct(formule[:i+1]):\n",
    "            message += \"\\nNous prions notre lecteur de bien vouloir se mêler de ses affaires!\"\n",
    "            return message\n",
    "        message += \".\"\n",
    "    return message + \"\\nBravo, vous avez trouvé la formule magique !\""
   ]
  },
  {
   "cell_type": "code",
   "execution_count": 86,
   "id": "a9939513",
   "metadata": {},
   "outputs": [
    {
     "name": "stdout",
     "output_type": "stream",
     "text": [
      "\n"
     ]
    }
   ],
   "source": [
    "print(carte_du_maraudeur(\"Revele tous tes secrets\"))"
   ]
  },
  {
   "cell_type": "markdown",
   "id": "078d5e20",
   "metadata": {},
   "source": [
    "### Exercice 5"
   ]
  },
  {
   "cell_type": "markdown",
   "id": "17188c6e",
   "metadata": {},
   "source": [
    "Simulation"
   ]
  },
  {
   "cell_type": "markdown",
   "id": "4d953a5f",
   "metadata": {},
   "source": [
    "### Exercice 6"
   ]
  },
  {
   "cell_type": "markdown",
   "id": "36be8a27",
   "metadata": {},
   "source": [
    "Code secret"
   ]
  }
 ],
 "metadata": {
  "kernelspec": {
   "display_name": "Python 3 (ipykernel)",
   "language": "python",
   "name": "python3"
  },
  "language_info": {
   "codemirror_mode": {
    "name": "ipython",
    "version": 3
   },
   "file_extension": ".py",
   "mimetype": "text/x-python",
   "name": "python",
   "nbconvert_exporter": "python",
   "pygments_lexer": "ipython3",
   "version": "3.9.7"
  }
 },
 "nbformat": 4,
 "nbformat_minor": 5
}
